{
  "nbformat": 4,
  "nbformat_minor": 0,
  "metadata": {
    "colab": {
      "name": "Untitled1.ipynb",
      "provenance": []
    },
    "kernelspec": {
      "name": "python3",
      "display_name": "Python 3"
    }
  },
  "cells": [
    {
      "cell_type": "code",
      "metadata": {
        "id": "RjZr6AbMlB6F",
        "colab_type": "code",
        "colab": {}
      },
      "source": [
        "import cv2\n"
      ],
      "execution_count": 0,
      "outputs": []
    }
  ]
}